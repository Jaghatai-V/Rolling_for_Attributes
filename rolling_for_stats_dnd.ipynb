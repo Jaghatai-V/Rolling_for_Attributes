{
 "cells": [
  {
   "cell_type": "code",
   "execution_count": 1,
   "id": "7a651c5d-ef5e-48e0-b13d-2963de6b30d8",
   "metadata": {},
   "outputs": [],
   "source": [
    "import random as ran"
   ]
  },
  {
   "cell_type": "code",
   "execution_count": 19,
   "id": "7d7883c5-7a66-48e3-b7c2-a041682813be",
   "metadata": {},
   "outputs": [
    {
     "name": "stdout",
     "output_type": "stream",
     "text": [
      "14\n"
     ]
    }
   ],
   "source": [
    "def roll_stat():\n",
    "    random_rolls = list(map(lambda dice: ran.randint(1,6), range(4)))\n",
    "    random_rolls.remove(min(random_rolls))\n",
    "    return sum(random_rolls)\n",
    "stat_roll = roll_stat()\n",
    "print(stat_roll)"
   ]
  },
  {
   "cell_type": "code",
   "execution_count": 25,
   "id": "88945903-f59e-4ce7-9d3d-7003a653fb55",
   "metadata": {},
   "outputs": [
    {
     "name": "stdout",
     "output_type": "stream",
     "text": [
      "[14, 17, 11, 13, 14, 12]\n"
     ]
    }
   ],
   "source": [
    "attribute_rolls = list(map(lambda dice: roll_stat(), range(6)))\n",
    "print(attribute_rolls)"
   ]
  },
  {
   "cell_type": "code",
   "execution_count": null,
   "id": "6a456e6d-d54a-48d9-bf31-e6e154e2a1ac",
   "metadata": {},
   "outputs": [],
   "source": []
  },
  {
   "cell_type": "code",
   "execution_count": 27,
   "id": "73f1d2f1-1e2c-4810-8be1-0cb9cf872565",
   "metadata": {},
   "outputs": [
    {
     "name": "stdout",
     "output_type": "stream",
     "text": [
      "11\n",
      "[9, 10, 8, 13, 14, 15]\n"
     ]
    }
   ],
   "source": [
    "import random as ran\n",
    "def roll_stat():\n",
    "    random_rolls = list(map(lambda dice: ran.randint(1,6), range(4)))\n",
    "    random_rolls.remove(min(random_rolls))\n",
    "    return sum(random_rolls)\n",
    "stat_roll = roll_stat()\n",
    "print(stat_roll)\n",
    "\n",
    "attribute_rolls = list(map(lambda dice: roll_stat(), range(6)))\n",
    "print(attribute_rolls)"
   ]
  },
  {
   "cell_type": "code",
   "execution_count": null,
   "id": "676057aa-3c4c-42c1-9baa-e16b5e13e2e4",
   "metadata": {},
   "outputs": [],
   "source": []
  }
 ],
 "metadata": {
  "kernelspec": {
   "display_name": "Python 3 (ipykernel)",
   "language": "python",
   "name": "python3"
  },
  "language_info": {
   "codemirror_mode": {
    "name": "ipython",
    "version": 3
   },
   "file_extension": ".py",
   "mimetype": "text/x-python",
   "name": "python",
   "nbconvert_exporter": "python",
   "pygments_lexer": "ipython3",
   "version": "3.12.4"
  }
 },
 "nbformat": 4,
 "nbformat_minor": 5
}
